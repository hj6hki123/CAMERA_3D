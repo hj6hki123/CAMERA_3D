{
 "cells": [
  {
   "cell_type": "code",
   "execution_count": 1,
   "id": "97d564fe",
   "metadata": {},
   "outputs": [
    {
     "data": {
      "text/plain": [
       "'0.1.7'"
      ]
     },
     "execution_count": 1,
     "metadata": {},
     "output_type": "execute_result"
    }
   ],
   "source": [
    "import objaverse\n",
    "objaverse.__version__"
   ]
  },
  {
   "cell_type": "code",
   "execution_count": 2,
   "id": "1a4577ef",
   "metadata": {},
   "outputs": [
    {
     "data": {
      "text/plain": [
       "(798759, list)"
      ]
     },
     "execution_count": 2,
     "metadata": {},
     "output_type": "execute_result"
    }
   ],
   "source": [
    "uids = objaverse.load_uids()\n",
    "len(uids), type(uids)"
   ]
  },
  {
   "cell_type": "code",
   "execution_count": null,
   "id": "5d149fd1",
   "metadata": {},
   "outputs": [],
   "source": [
    "annotations = objaverse.load_annotations(uids[:10])\n",
    "annotations"
   ]
  },
  {
   "cell_type": "code",
   "execution_count": null,
   "id": "3db1fbcd",
   "metadata": {},
   "outputs": [],
   "source": [
    "annotations[uids[0]]"
   ]
  },
  {
   "cell_type": "code",
   "execution_count": null,
   "id": "6abeb825",
   "metadata": {},
   "outputs": [],
   "source": [
    "import multiprocessing\n",
    "\n",
    "processes = multiprocessing.cpu_count()\n",
    "processes\n",
    "\n",
    "uids = objaverse.load_uids()\n",
    "objects = objaverse.load_objects(\n",
    "    uids=uids,\n",
    "    download_processes=processes\n",
    ")\n",
    "objects"
   ]
  },
  {
   "cell_type": "code",
   "execution_count": null,
   "id": "b1cf74ce",
   "metadata": {},
   "outputs": [],
   "source": [
    "from ollama import chat, ChatResponse\n",
    "import objaverse\n",
    "from tqdm import tqdm\n",
    "\n",
    "def is_furniture(name: str, description: str, tags: list[str]) -> bool:\n",
    "    prompt = f\"\"\"\n",
    "        You are an expert on object classification.\n",
    "        Determine if the following 3D object is a piece of *furniture* (like a chair, table, bed, cabinet, etc).\n",
    "        Respond only with 'Yes' or 'No'.\n",
    "\n",
    "        Name: {name}\n",
    "        Description: {description}\n",
    "        Tags: {', '.join(tags)}\n",
    "        \"\"\"\n",
    "    try:\n",
    "        response: ChatResponse = chat(model='llama3', messages=[\n",
    "            {'role': 'user', 'content': prompt},\n",
    "        ])\n",
    "        reply = response.message.content.strip().lower()\n",
    "        return reply.startswith(\"yes\")\n",
    "    except Exception as e:\n",
    "        print(f\" Error: {e}\")\n",
    "        return False\n",
    "\n",
    "uids = objaverse.load_uids()\n",
    "\n",
    "#  開啟儲存檔案（以追加方式即時寫入）\n",
    "with open(\"furniture_uids.txt\", \"w\") as f_out:\n",
    "    with tqdm(total=len(uids), desc=\"判斷中\") as pbar:\n",
    "        for uid in uids:\n",
    "            try:\n",
    "                anno = objaverse.load_annotations([uid])[uid]\n",
    "                name = anno.get(\"name\", \"\")\n",
    "                desc = anno.get(\"description\", \"\")\n",
    "                tags = [t[\"name\"] for t in anno.get(\"tags\", [])]\n",
    "\n",
    "                if is_furniture(name, desc, tags):\n",
    "                    f_out.write(uid + \"\\n\")\n",
    "                    f_out.flush()  # 立即寫入磁碟\n",
    "            except Exception as e:\n",
    "                print(f\" Failed to load or process {uid}: {e}\")\n",
    "            pbar.update(1)\n",
    "\n",
    "print(\" 處理完成,結果已儲存在 furniture_uids.txt\")\n"
   ]
  },
  {
   "cell_type": "code",
   "execution_count": 3,
   "id": "3b6bbd29",
   "metadata": {},
   "outputs": [
    {
     "name": "stderr",
     "output_type": "stream",
     "text": [
      " 99%|█████████▉| 159/160 [04:16<00:01,  1.61s/it]\n",
      "100%|██████████| 8632/8632 [00:00<00:00, 356084.35it/s]"
     ]
    },
    {
     "name": "stdout",
     "output_type": "stream",
     "text": [
      "Collected 8632 captions.\n"
     ]
    },
    {
     "name": "stderr",
     "output_type": "stream",
     "text": [
      "\n"
     ]
    }
   ],
   "source": [
    "\n",
    "# build_corpus_from_objaverse.py\n",
    "import json, objaverse, tqdm\n",
    "\n",
    "# 讀 UID 清單（剛下載的家具）\n",
    "with open(\"furniture_uids.txt\") as f:\n",
    "    uids = [l.strip() for l in f if l.strip()]\n",
    "\n",
    "# 一次批量抓 annotation\n",
    "annos = objaverse.load_annotations(uids=uids)        # dict: uid -> annotation\n",
    "\n",
    "corpus = []\n",
    "for uid, a in tqdm.tqdm(annos.items()):\n",
    "    # 取 name / description\n",
    "    name = a.get(\"name\", \"\")\n",
    "    desc = a.get(\"description\", \"\")\n",
    "    # 取 tags\n",
    "    tags = [t[\"name\"] for t in a.get(\"tags\", [])]\n",
    "    tag_sent = \", \".join(tags) if tags else \"\"\n",
    "    # 拼一條可讀 caption\n",
    "    text_parts = [name, desc, tag_sent]\n",
    "    caption = \". \".join([p for p in text_parts if p])   # 去空字串\n",
    "    if caption:\n",
    "        corpus.append({\"id\": uid, \"text\": caption})\n",
    "\n",
    "print(f\"Collected {len(corpus)} captions.\")\n",
    "json.dump(corpus, open(\"semantic_corpus.json\", \"w\"), indent=2)"
   ]
  }
 ],
 "metadata": {
  "kernelspec": {
   "display_name": "web_crawler",
   "language": "python",
   "name": "python3"
  },
  "language_info": {
   "codemirror_mode": {
    "name": "ipython",
    "version": 3
   },
   "file_extension": ".py",
   "mimetype": "text/x-python",
   "name": "python",
   "nbconvert_exporter": "python",
   "pygments_lexer": "ipython3",
   "version": "3.11.10"
  }
 },
 "nbformat": 4,
 "nbformat_minor": 5
}
